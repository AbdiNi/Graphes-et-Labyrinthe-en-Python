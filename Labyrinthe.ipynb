{
 "cells": [
  {
   "cell_type": "markdown",
   "metadata": {},
   "source": [
    "# Parcours des Graphes : "
   ]
  },
  {
   "cell_type": "code",
   "execution_count": 83,
   "metadata": {},
   "outputs": [],
   "source": [
    "import networkx as nx\n",
    "import matplotlib.pyplot as plt\n",
    "import string\n",
    "import copy\n",
    "import random\n",
    "from random import shuffle, randrange\n",
    "import numpy as np\n",
    "from matplotlib.pyplot import figure\n",
    "random.seed(100)"
   ]
  },
  {
   "cell_type": "code",
   "execution_count": 2,
   "metadata": {},
   "outputs": [],
   "source": [
    "Graphe_ = { \n",
    "     'A':{'B':2, 'C':1}, \n",
    "     'B':{'A':2, 'C':2, 'D':1, 'E':3}, \n",
    "     'C':{'A':1, 'B':2, 'D':4, 'E':3, 'F':5}, \n",
    "     'D':{'B':1, 'C':4, 'E':3, 'F':6, 'G':5}, \n",
    "     'E':{'B':3, 'C':3, 'D':3, 'F':1}, \n",
    "     'F':{'C':5, 'D':6, 'E':1, 'G':2}, \n",
    "     'G':{'D':5, 'F':2} }\n",
    "\n"
   ]
  },
  {
   "cell_type": "code",
   "execution_count": 3,
   "metadata": {},
   "outputs": [
    {
     "data": {
      "image/png": "[encoded data removed]",
      "text/plain": [
       "<Figure size 720x360 with 1 Axes>"
      ]
     },
     "metadata": {},
     "output_type": "display_data"
    }
   ],
   "source": [
    "\n",
    "g = nx.Graph()\n",
    "for i, j in Graphe_.items():\n",
    "    for k in j:\n",
    "        g.add_edge( i,k )\n",
    "        \n",
    "f, ax = plt.subplots(figsize=(10,5))\n",
    "nx.draw(g, ax = ax, with_labels=True, font_weight='bold')"
   ]
  },
  {
   "cell_type": "markdown",
   "metadata": {},
   "source": [
    "## 1-Parcours en largeur : "
   ]
  },
  {
   "cell_type": "raw",
   "metadata": {},
   "source": [
    "Algo : \n",
    "\n",
    "-Un dictionnaire P. En fin de parcours, pour tout sommet s du graphe P[s] sera le père de s, c’est à dire le sommet à partir duquel le sommet s a été découvert lors du parcours.\n",
    "-Un dictionnaire couleur. \n",
    "-Une liste Q utilisée comme file (fifo) : on enfile un sommet lorsqu’il est d´ecouvert, on le d´efile lorsqu’il est terminé (traitement prioritaire des sommets d´ecouverts au plus tôt).\n",
    "-Une liste PL utiliser comme output du parcours"
   ]
  },
  {
   "cell_type": "code",
   "execution_count": 4,
   "metadata": {},
   "outputs": [],
   "source": [
    "def parc_larg(graph, sommet):\n",
    "    \n",
    "    if(sommet not in graph) : \n",
    "        print(\" sommet introuvable !\")\n",
    "        return\n",
    "    \n",
    "    P = {sommet: None}             # le premier sommet n'a pas de père (il est pas découvert à partir un autre sommet) \n",
    "    Couleur = {sommet : 'blanc'}   # parce qu'il est pas encore traité \n",
    "    Q = [sommet]                   # File de traitement  (First In / First Out)\n",
    "    count = 0                      # pour controler le nombre d'itération de la boucle while\n",
    "    \n",
    "    while ((len(Q)>0) and count< len(graph)-1) :  #Tant qu'on a des élément découverts et non traités dans la liste Q\n",
    "        count +=1                                 # count sert à sortir de la boucle while une fois \n",
    "        if(Couleur[sommet] == 'blanc'):           \n",
    "            for v in graph[sommet] :              # Détection des sommets 'v' adjacents à 'sommet'\n",
    "                if(v not in P):                   # Si v n'est pas encore découvert \n",
    "                    P[v] = sommet           # on le met dans P avec son 'père'\n",
    "                    Couleur[v] = 'blanc'    # additition des sommets decouverts et non traités au dictionnaire Couleur\n",
    "                    Q.append(v)             # mise à jour de notre File\n",
    "        \n",
    "\n",
    "        # mettre en noir les sommet traité\n",
    "        Couleur[sommet] = 'noir'             \n",
    "        #retirer le sommet traité de la liste File\n",
    "        Q.remove(sommet)\n",
    "        #pointe le nouveau sommet vers le premier élément non traité de la File\n",
    "        sommet = Q[0]\n",
    "    \n",
    "        print('P = ', P)\n",
    "        print('couleur = ', Couleur)\n",
    "        print('File = ', Q)\n",
    "        print(100 * '-')\n",
    "        \n",
    "    # mettre en noir le dernier sommet traité\n",
    "    Couleur[sommet] = 'noir'\n",
    "    #retirer le dernier sommet traité de la liste File\n",
    "    Q.remove(sommet)\n",
    "    \n",
    "    print('P = ', P)\n",
    "    print('couleur = ', Couleur)\n",
    "    print('File = ', Q)\n",
    "    \n",
    "    PL = list(Couleur.keys())\n",
    "    \n",
    "    return(PL)"
   ]
  },
  {
   "cell_type": "code",
   "execution_count": 5,
   "metadata": {},
   "outputs": [
    {
     "name": "stdout",
     "output_type": "stream",
     "text": [
      "P =  {'A': None, 'B': 'A', 'C': 'A'}\n",
      "couleur =  {'A': 'noir', 'B': 'blanc', 'C': 'blanc'}\n",
      "File =  ['B', 'C']\n",
      "----------------------------------------------------------------------------------------------------\n",
      "P =  {'A': None, 'B': 'A', 'C': 'A', 'D': 'B', 'E': 'B'}\n",
      "couleur =  {'A': 'noir', 'B': 'noir', 'C': 'blanc', 'D': 'blanc', 'E': 'blanc'}\n",
      "File =  ['C', 'D', 'E']\n",
      "----------------------------------------------------------------------------------------------------\n",
      "P =  {'A': None, 'B': 'A', 'C': 'A', 'D': 'B', 'E': 'B', 'F': 'C'}\n",
      "couleur =  {'A': 'noir', 'B': 'noir', 'C': 'noir', 'D': 'blanc', 'E': 'blanc', 'F': 'blanc'}\n",
      "File =  ['D', 'E', 'F']\n",
      "----------------------------------------------------------------------------------------------------\n",
      "P =  {'A': None, 'B': 'A', 'C': 'A', 'D': 'B', 'E': 'B', 'F': 'C', 'G': 'D'}\n",
      "couleur =  {'A': 'noir', 'B': 'noir', 'C': 'noir', 'D': 'noir', 'E': 'blanc', 'F': 'blanc', 'G': 'blanc'}\n",
      "File =  ['E', 'F', 'G']\n",
      "----------------------------------------------------------------------------------------------------\n",
      "P =  {'A': None, 'B': 'A', 'C': 'A', 'D': 'B', 'E': 'B', 'F': 'C', 'G': 'D'}\n",
      "couleur =  {'A': 'noir', 'B': 'noir', 'C': 'noir', 'D': 'noir', 'E': 'noir', 'F': 'blanc', 'G': 'blanc'}\n",
      "File =  ['F', 'G']\n",
      "----------------------------------------------------------------------------------------------------\n",
      "P =  {'A': None, 'B': 'A', 'C': 'A', 'D': 'B', 'E': 'B', 'F': 'C', 'G': 'D'}\n",
      "couleur =  {'A': 'noir', 'B': 'noir', 'C': 'noir', 'D': 'noir', 'E': 'noir', 'F': 'noir', 'G': 'blanc'}\n",
      "File =  ['G']\n",
      "----------------------------------------------------------------------------------------------------\n",
      "P =  {'A': None, 'B': 'A', 'C': 'A', 'D': 'B', 'E': 'B', 'F': 'C', 'G': 'D'}\n",
      "couleur =  {'A': 'noir', 'B': 'noir', 'C': 'noir', 'D': 'noir', 'E': 'noir', 'F': 'noir', 'G': 'noir'}\n",
      "File =  []\n"
     ]
    }
   ],
   "source": [
    "PL = parc_larg(Graphe_, 'A')"
   ]
  },
  {
   "cell_type": "code",
   "execution_count": 6,
   "metadata": {},
   "outputs": [
    {
     "name": "stdout",
     "output_type": "stream",
     "text": [
      "parcours du graph en largeur =  ['A', 'B', 'C', 'D', 'E', 'F', 'G']\n"
     ]
    }
   ],
   "source": [
    "print('parcours du graph en largeur = ', PL )"
   ]
  },
  {
   "cell_type": "code",
   "execution_count": null,
   "metadata": {},
   "outputs": [],
   "source": []
  },
  {
   "cell_type": "markdown",
   "metadata": {},
   "source": [
    "## 2- Parcours en profondeur : "
   ]
  },
  {
   "cell_type": "raw",
   "metadata": {},
   "source": [
    "# On va procéder à un parcours en profondeur du graphe en mettant les sommets successifs dans une pile (structure LIFO). \n",
    "\n",
    "Voici la description intuitive de l'algorithme :\n",
    "\n",
    "1- On empile le sommet de départ (on visite la page d'accueil du site).\n",
    "2- * Si le sommet de la pile possède des voisins qui ne sont pas dans la pile, ni déjà passés dans la pile, alors       on sélectionne l'un de ces voisins et on l'empile (en le marquant de son numéro de découverte)\n",
    "   * Sinon on dépile (c'est-à-dire on supprime l'élément au sommet de la pile).\n",
    "3- On recommence au point 2 tant que la pile n'est pas vide.\n",
    "\n",
    "En d'autres termes, on traite toujours en priorité les liens des pages les plus tard découvertes."
   ]
  },
  {
   "cell_type": "code",
   "execution_count": 7,
   "metadata": {},
   "outputs": [],
   "source": [
    "def parc_prof(graph, sommet):\n",
    "    P = {sommet: None}             # le premier sommet n'a pas de père (il est pas découvert à partir un autre sommet) \n",
    "    chaine = [sommet ]             # chaine parcouru\n",
    "    Q = []                         # Pile des sommets  (First In / First Out)\n",
    " \n",
    "    while(len(chaine) !=0) : # tant que la chaine des sommets est non vide\n",
    "        count = 0\n",
    "        while(count<len(graph)):\n",
    "            count+=1\n",
    "            dernier_sommet = chaine[-1]         #dernier sommet découvert\n",
    "            for v in graph[dernier_sommet] : \n",
    "                if ((v not in chaine) and (v not in Q)  ):  # n'est pas dans la pile et n'est pas traité \n",
    "                    P[v]= dernier_sommet\n",
    "                    chaine.append(v)\n",
    "                    break\n",
    "                else : \n",
    "                    pass\n",
    "\n",
    "        Q.append(chaine[-1])\n",
    "        chaine.pop()\n",
    "        print(' P = ', P)\n",
    "        print(' Q = ', Q)\n",
    "        print(' chaine = ', chaine)\n",
    "        print(75*'-')\n",
    "         \n",
    "    return Q\n",
    "           "
   ]
  },
  {
   "cell_type": "code",
   "execution_count": 8,
   "metadata": {},
   "outputs": [
    {
     "name": "stdout",
     "output_type": "stream",
     "text": [
      " P =  {'B': None, 'A': 'B', 'C': 'A', 'D': 'C', 'E': 'D', 'F': 'E', 'G': 'F'}\n",
      " Q =  ['G']\n",
      " chaine =  ['B', 'A', 'C', 'D', 'E', 'F']\n",
      "---------------------------------------------------------------------------\n",
      " P =  {'B': None, 'A': 'B', 'C': 'A', 'D': 'C', 'E': 'D', 'F': 'E', 'G': 'F'}\n",
      " Q =  ['G', 'F']\n",
      " chaine =  ['B', 'A', 'C', 'D', 'E']\n",
      "---------------------------------------------------------------------------\n",
      " P =  {'B': None, 'A': 'B', 'C': 'A', 'D': 'C', 'E': 'D', 'F': 'E', 'G': 'F'}\n",
      " Q =  ['G', 'F', 'E']\n",
      " chaine =  ['B', 'A', 'C', 'D']\n",
      "---------------------------------------------------------------------------\n",
      " P =  {'B': None, 'A': 'B', 'C': 'A', 'D': 'C', 'E': 'D', 'F': 'E', 'G': 'F'}\n",
      " Q =  ['G', 'F', 'E', 'D']\n",
      " chaine =  ['B', 'A', 'C']\n",
      "---------------------------------------------------------------------------\n",
      " P =  {'B': None, 'A': 'B', 'C': 'A', 'D': 'C', 'E': 'D', 'F': 'E', 'G': 'F'}\n",
      " Q =  ['G', 'F', 'E', 'D', 'C']\n",
      " chaine =  ['B', 'A']\n",
      "---------------------------------------------------------------------------\n",
      " P =  {'B': None, 'A': 'B', 'C': 'A', 'D': 'C', 'E': 'D', 'F': 'E', 'G': 'F'}\n",
      " Q =  ['G', 'F', 'E', 'D', 'C', 'A']\n",
      " chaine =  ['B']\n",
      "---------------------------------------------------------------------------\n",
      " P =  {'B': None, 'A': 'B', 'C': 'A', 'D': 'C', 'E': 'D', 'F': 'E', 'G': 'F'}\n",
      " Q =  ['G', 'F', 'E', 'D', 'C', 'A', 'B']\n",
      " chaine =  []\n",
      "---------------------------------------------------------------------------\n"
     ]
    }
   ],
   "source": [
    "Q = parc_prof(Graphe_, 'B')"
   ]
  },
  {
   "cell_type": "code",
   "execution_count": 9,
   "metadata": {},
   "outputs": [
    {
     "name": "stdout",
     "output_type": "stream",
     "text": [
      "parcours du graph en profondeur :  ['G', 'F', 'E', 'D', 'C', 'A', 'B']\n"
     ]
    }
   ],
   "source": [
    "print('parcours du graph en profondeur : ', Q)"
   ]
  },
  {
   "cell_type": "code",
   "execution_count": null,
   "metadata": {},
   "outputs": [],
   "source": []
  },
  {
   "cell_type": "markdown",
   "metadata": {},
   "source": [
    "## 3-Recherche des chemins entre deux sommets :¶"
   ]
  },
  {
   "cell_type": "raw",
   "metadata": {},
   "source": [
    "Création d'une classe Graph qui prend : \n",
    "- comme attribut un graphe \n",
    "- comme méthodes : \n",
    "    * vertices : rend une liste des sommets du graphe\n",
    "    * print_edges : rend une liste des liaisons entre les sommets (les sommets adjacents)\n",
    "    * print_paths : affiche tout les chemins possibles pour aller d'un point à un autre\n",
    "    * pathFinder : recherche les chemins qui relient deux points\n"
   ]
  },
  {
   "cell_type": "code",
   "execution_count": 10,
   "metadata": {},
   "outputs": [],
   "source": [
    "class Graph(object):\n",
    "       \n",
    "    def __init__(self, graph):\n",
    "        self.vertexlist = list(graph.keys())\n",
    "        self.edgelist = []\n",
    "        for v in graph: \n",
    "            for k in graph[v]:\n",
    "                self.edgelist.append([v,k])        \n",
    "    \n",
    "    def vertices(self):\n",
    "        return self.vertexlist            \n",
    "    \n",
    "    def print_edges(self):\n",
    "        for x in self.edgelist:\n",
    "            print(x[0] + \" -> \" + x[1])\n",
    "            \n",
    "    def print_paths(self, start, end):\n",
    "        visited = {v : False for v in self.vertexlist} \n",
    "        temp = self.pathFinder(start, end, visited)\n",
    "        return(temp)\n",
    "\n",
    "    def pathFinder(self, begin, fin, visited, p=None):\n",
    "        # Mark this node as visited.\n",
    "        visited[begin] = True \n",
    "        if p is None: p = []\n",
    "\n",
    "        p = p + [begin]\n",
    "        #print('p = ', p)\n",
    "        # Stopping condition - Success.\n",
    "        if begin == fin: \n",
    "            return [p]\n",
    "\n",
    "        pathlist = []\n",
    "        for item in self.edgelist: \n",
    "            # First, make sure that we are following a valid path\n",
    "            # and second, make sure the end of this edge has not \n",
    "            # already been visited. If not, we're ready to jump in\n",
    "            if begin == item[0] and not visited[item[1]]: \n",
    "                # The next recursive call will take a \n",
    "                # fresh copy of visited and attempt to repeat \n",
    "                # the process until it has found the end.\n",
    "                newpath = self.pathFinder(item[1], fin, copy.copy(visited), p)     \n",
    "                pathlist.extend(newpath)\n",
    "\n",
    "        return pathlist # Stopping condition - Failure."
   ]
  },
  {
   "cell_type": "markdown",
   "metadata": {},
   "source": [
    "### Quelques tests sur la classe : "
   ]
  },
  {
   "cell_type": "code",
   "execution_count": 11,
   "metadata": {},
   "outputs": [],
   "source": [
    "g = Graph(Graphe_)"
   ]
  },
  {
   "cell_type": "code",
   "execution_count": 12,
   "metadata": {},
   "outputs": [
    {
     "data": {
      "text/plain": [
       "['A', 'B', 'C', 'D', 'E', 'F', 'G']"
      ]
     },
     "execution_count": 12,
     "metadata": {},
     "output_type": "execute_result"
    }
   ],
   "source": [
    "#Affichage des sommets du graphe\n",
    "g.vertices()"
   ]
  },
  {
   "cell_type": "code",
   "execution_count": 13,
   "metadata": {},
   "outputs": [
    {
     "name": "stdout",
     "output_type": "stream",
     "text": [
      "A -> B\n",
      "A -> C\n",
      "B -> A\n",
      "B -> C\n",
      "B -> D\n",
      "B -> E\n",
      "C -> A\n",
      "C -> B\n",
      "C -> D\n",
      "C -> E\n",
      "C -> F\n",
      "D -> B\n",
      "D -> C\n",
      "D -> E\n",
      "D -> F\n",
      "D -> G\n",
      "E -> B\n",
      "E -> C\n",
      "E -> D\n",
      "E -> F\n",
      "F -> C\n",
      "F -> D\n",
      "F -> E\n",
      "F -> G\n",
      "G -> D\n",
      "G -> F\n"
     ]
    }
   ],
   "source": [
    "#Affichage des liaisons entre les sommets\n",
    "g.print_edges()"
   ]
  },
  {
   "cell_type": "code",
   "execution_count": 14,
   "metadata": {},
   "outputs": [
    {
     "name": "stdout",
     "output_type": "stream",
     "text": [
      "all paths from A to D are :\n"
     ]
    },
    {
     "data": {
      "text/plain": [
       "[['A', 'B'],\n",
       " ['A', 'C', 'B'],\n",
       " ['A', 'C', 'D', 'B'],\n",
       " ['A', 'C', 'D', 'E', 'B'],\n",
       " ['A', 'C', 'D', 'F', 'E', 'B'],\n",
       " ['A', 'C', 'D', 'G', 'F', 'E', 'B'],\n",
       " ['A', 'C', 'E', 'B'],\n",
       " ['A', 'C', 'E', 'D', 'B'],\n",
       " ['A', 'C', 'E', 'F', 'D', 'B'],\n",
       " ['A', 'C', 'E', 'F', 'G', 'D', 'B'],\n",
       " ['A', 'C', 'F', 'D', 'B'],\n",
       " ['A', 'C', 'F', 'D', 'E', 'B'],\n",
       " ['A', 'C', 'F', 'E', 'B'],\n",
       " ['A', 'C', 'F', 'E', 'D', 'B'],\n",
       " ['A', 'C', 'F', 'G', 'D', 'B'],\n",
       " ['A', 'C', 'F', 'G', 'D', 'E', 'B']]"
      ]
     },
     "execution_count": 14,
     "metadata": {},
     "output_type": "execute_result"
    }
   ],
   "source": [
    "#Recherche de tout les chemins possible qui mènent d'un point à un autre\n",
    "print('all paths from A to D are :')\n",
    "g.print_paths('A','B')"
   ]
  },
  {
   "cell_type": "markdown",
   "metadata": {},
   "source": [
    "## 4- Création d'un Labyrinthe on appliquant le parcours de profondeur :"
   ]
  },
  {
   "cell_type": "code",
   "execution_count": 21,
   "metadata": {},
   "outputs": [],
   "source": [
    "LARGEUR = 2\n",
    "HAUTEUR = 1\n",
    "# Foction voisinage qui crée des sommets voisins à un sommet donné\n",
    "def voisinage(couple):\n",
    "    \"\"\"\n",
    "    Renvoie la liste des cellules voisines de la cellule (ligne, colonne) = couple dans la grille.\n",
    "    \"\"\"\n",
    "    listeVoisins = []\n",
    "    i, j = couple[0], couple[1]\n",
    "    for d in (-1, 1):\n",
    "        if -1 < i+d < HAUTEUR: listeVoisins.append( (i+d, j) )\n",
    "        if   -1 < j+d < LARGEUR: listeVoisins.append( (i, j+d) )\n",
    "    print('couple = ', couple)\n",
    "    print('list des voisins = ',listeVoisins )\n",
    "    return listeVoisins\n",
    "\n",
    "\n",
    "#combinaison de parcours en profonduer et la fonction voisinage pour créer et retourner un graphe P\n",
    "def dfs(s) :\n",
    "    P,Q={s :None},[s]\n",
    "    print('P = ', P)\n",
    "    print('Q = ', Q)\n",
    "    while Q :\n",
    "        u = Q[-1]\n",
    "        R=[y for y in voisinage(u) if y not in P]\n",
    "       \n",
    "        if R :\n",
    "            v=random.choice(R)\n",
    "            P[v]=u\n",
    "            Q.append(v)\n",
    "        else :\n",
    "            Q.pop()\n",
    "    print(50*'-')\n",
    "    print('la chaine Q = ', Q)     \n",
    "    print('le dictionnaire P = ', P)\n",
    "    return P   \n"
   ]
  },
  {
   "cell_type": "code",
   "execution_count": 23,
   "metadata": {},
   "outputs": [
    {
     "name": "stdout",
     "output_type": "stream",
     "text": [
      "P =  {(0, 0): None}\n",
      "Q =  [(0, 0)]\n",
      "couple =  (0, 0)\n",
      "list des voisins =  [(0, 1)]\n",
      "couple =  (0, 1)\n",
      "list des voisins =  [(0, 0)]\n",
      "couple =  (0, 0)\n",
      "list des voisins =  [(0, 1)]\n",
      "--------------------------------------------------\n",
      "la chaine Q =  []\n",
      "le dictionnaire P =  {(0, 0): None, (0, 1): (0, 0)}\n"
     ]
    },
    {
     "data": {
      "text/plain": [
       "{(0, 0): None, (0, 1): (0, 0)}"
      ]
     },
     "execution_count": 23,
     "metadata": {},
     "output_type": "execute_result"
    }
   ],
   "source": [
    "dfs((0,0))   #pour (HAUTEUR, LARGEUR) = (2,1)"
   ]
  },
  {
   "cell_type": "code",
   "execution_count": 24,
   "metadata": {},
   "outputs": [],
   "source": [
    "#####  Gardons que le nécessaire  #####\n",
    "\n",
    "# Foction voisinage qui crée des sommets voisins à un sommet donné\n",
    "def voisinage(couple):\n",
    "    listeVoisins = []\n",
    "    i, j = couple[0], couple[1]\n",
    "    for d in (-1, 1):\n",
    "        if -1 < i+d < HAUTEUR: listeVoisins.append( (i+d, j) )\n",
    "        if   -1 < j+d < LARGEUR: listeVoisins.append( (i, j+d) )\n",
    "    return listeVoisins\n",
    "\n",
    "#combinaison de parcours en profonduer et la fonction voisinage pour créer et retourner un graphe P\n",
    "def dfs(s) :\n",
    "    P,Q={s :None},[s]\n",
    "    while Q :\n",
    "        u = Q[-1]\n",
    "        R=[y for y in voisinage(u) if y not in P]\n",
    "       \n",
    "        if R :\n",
    "            v=random.choice(R)\n",
    "            P[v]=u\n",
    "            Q.append(v)\n",
    "        else :\n",
    "            Q.pop()\n",
    "    return P"
   ]
  },
  {
   "cell_type": "code",
   "execution_count": null,
   "metadata": {
    "jupyter": {
     "source_hidden": true
    }
   },
   "outputs": [],
   "source": [
    "# LARGEUR = 3\n",
    "# HAUTEUR = 2\n",
    "def Labyrinthe():\n",
    "    \n",
    "    labyrinthe = [ [0 for j in range(2*LARGEUR+1)] for i in range(2*HAUTEUR+1)]\n",
    "    parcours = dfs((0,0))\n",
    "    print(parcours)\n",
    "    \n",
    "    \n",
    "#     for i,j in parcours:\n",
    "#         if ( (i,j)!=(0, 0)):\n",
    "#             k,l = parcours[(i,j)] \n",
    "#             if((i+k+1 == 2*HAUTEUR -2) and (j+l+1 == 2*LARGEUR-1) ):\n",
    "#                 m,n = i,j\n",
    "    \n",
    "    \n",
    "    dic_new = {}\n",
    "    for i in parc.keys():\n",
    "        dic_new[i] = [parc[i]]\n",
    "        if parc[i] in dic_new.keys():\n",
    "            dic_new[parc.get(i)].append(i)\n",
    "\n",
    "    for i in parc.keys():\n",
    "        dic_new[i] = {node : 1 for node in dic_new[i] if node != None }\n",
    "    \n",
    "    g=Graph(dic_new)\n",
    "    g.print_paths((0,0),(1,2))\n",
    "    \n",
    "    \n",
    "    for i,j in parcours:\n",
    "        labyrinthe[2*i+1][2*j+1] = 1   # on commence par le traçage des keys  \n",
    "        print('ij = ',(i,j))\n",
    "        if ( (i,j)!=(0, 0)) : \n",
    "            k,l = parcours[(i,j)]      # pour le traçage des liasons (les dictionnaires associés à chaque clé) \n",
    "            labyrinthe[2*k+1][2*l+1] = 1   # pour tracer un point qui ne fait pas un dictionnaire (qui mene nul part)\n",
    "            labyrinthe[i+k+1][j+l+1] = 1   \n",
    "#             if((i+k+1 == 2*HAUTEUR -2) and (j+l+1 == 2*LARGEUR-1) ): \n",
    "#                 print('ijkl = ',(i,j), (k,l))\n",
    "#                 labyrinthe[i+k+1][j+l+1] = 1\n",
    "            \n",
    "#             if((i+k+1 == 2*HAUTEUR -2) and (j+l+1 == 2*LARGEUR-1) ): \n",
    "#                 print('ijkl = ',(i,j), (k,l))\n",
    "#                 labyrinthe[i+k+1][j+l+1] = 1\n",
    "    \n",
    "    \n",
    "    \n",
    "    \n",
    "    \n",
    "    \n",
    "    \n",
    "    \n",
    "    \n",
    "    labyrinthe[1][0] = 2                     # premier carreau jaune (de départ)\n",
    "    labyrinthe[2*HAUTEUR-1][2*LARGEUR] = 2   # dernier carreau jaune (d'arrivée)\n",
    "    \n",
    "#     labyrinthe[2][5] = 1              #  2*hauteur-2, 2*largeur-1  (2,5)  => i+k+1 = 2*hauteur-2 , j+l+1 = 2*largeur-1 \n",
    "#     labyrinthe[2*HAUTEUR-1][2*LARGEUR-2] = 1   #  2*hauteur-1, 2*largeur-2  (3,4) \n",
    "    return (labyrinthe,parcours)\n"
   ]
  },
  {
   "cell_type": "markdown",
   "metadata": {},
   "source": [
    "## 5- Affichage du Labyrinthe et du chemin entre le sommet d'entrée et le sommet de sortie Avec matplotlib :"
   ]
  },
  {
   "cell_type": "code",
   "execution_count": 81,
   "metadata": {},
   "outputs": [],
   "source": [
    "\n",
    "def Labyrinthe():\n",
    "    # création d'une labyrinthe vide (matrice des zéros)\n",
    "    labyrinthe = [ [0 for j in range(2*LARGEUR+1)] for i in range(2*HAUTEUR+1)] \n",
    "    # récupération d'un dictionnaire de sommets (aléatoirement fait par combinaison de parcours de profondeur et voisinage)\n",
    "    parcours = dfs((0,0))  \n",
    "    \n",
    "    #transformation du parcours à un graphe de sommets (dictionnaire de dictionnaires)\n",
    "    graphe_new = {}\n",
    "    for i in parcours.keys():\n",
    "        graphe_new[i] = [parcours[i]]\n",
    "        if parcours[i] in graphe_new.keys():\n",
    "            graphe_new[parcours.get(i)].append(i)\n",
    "    for i in parcours.keys():\n",
    "        graphe_new[i] = {node : 1 for node in graphe_new[i] if node != None }\n",
    "    \n",
    "    \n",
    "    #passer le graphe_new dans la classe Graphe pour pouvoir le traiter et l'expoloiter\n",
    "    g=Graph(graphe_new)\n",
    "    \n",
    "    #recherche du chemin du point de départ (0,0) vers le point d'arrivée (HAUTEUR-1,LARGEUR-1)\n",
    "    #Rq : print_paths cherche tout les chemin possible, mais on est dans le cas d'une labyrithne parfaite => y'a toujours un seule et unique chemin \n",
    "    path = g.print_paths((0,0),(HAUTEUR-1,LARGEUR-1))\n",
    "    \n",
    "    #coloriage de tout les sommets avec leurs liaisons en bleu\n",
    "    for (i,j) in parcours : \n",
    "        labyrinthe[2*i+1][2*j+1] = 1\n",
    "        if ( (i,j)!=(0, 0)) : \n",
    "            k,l = parcours[(i,j)]      # pour le traçage des liasons (les dictionnaires associés à chaque clé)\n",
    "            labyrinthe[2*k+1][2*l+1] = 1   # pour tracer un point qui ne fait pas un dictionnaire (qui mene nul part)\n",
    "            labyrinthe[i+k+1][j+l+1] = 1 \n",
    "    \n",
    "    #coloriage de tout les sommets du chemin avec leurs liaisons en jaune\n",
    "    for (i,j) in parcours : \n",
    "        if((i,j) in path[0]):\n",
    "            labyrinthe[2*i+1][2*j+1] = 2\n",
    "            if ( (i,j)!=(0, 0)) : \n",
    "                k,l = parcours[(i,j)]      # pour le traçage des liasons (les dictionnaires associés à chaque clé)\n",
    "                labyrinthe[2*k+1][2*l+1] = 2   # pour tracer un point qui ne fait pas un dictionnaire (qui mene nul part)\n",
    "                labyrinthe[i+k+1][j+l+1] = 2   \n",
    "        \n",
    "\n",
    "    labyrinthe[1][0] = 3                    # premier carreau jaune (de départ)\n",
    "    labyrinthe[2*HAUTEUR-1][2*LARGEUR] = 3  # dernier carreau jaune (d'arrivée)\n",
    "      \n",
    "    return (labyrinthe, graphe_new)"
   ]
  },
  {
   "cell_type": "code",
   "execution_count": 126,
   "metadata": {},
   "outputs": [
    {
     "data": {
      "image/png": "[encoded data removed]",
      "text/plain": [
       "<Figure size 604.8x864 with 1 Axes>"
      ]
     },
     "metadata": {
      "needs_background": "light"
     },
     "output_type": "display_data"
    }
   ],
   "source": [
    "LARGEUR = 10\n",
    "HAUTEUR = 7\n",
    "\n",
    "figure(num=None, figsize=(HAUTEUR*1.2, LARGEUR*1.2))\n",
    "\n",
    "lab , graphe_n= Labyrinthe()\n",
    "plt.imshow(lab)\n",
    "\n",
    "# on cache les graduations:\n",
    "plt.xticks(np.arange(0, len(lab[0]), 1.0))\n",
    "plt.yticks(np.arange(0, len(lab), 1.0))\n",
    "# on visualise le résultat:\n",
    "plt.show()"
   ]
  },
  {
   "cell_type": "code",
   "execution_count": 128,
   "metadata": {},
   "outputs": [
    {
     "data": {
      "image/png": "[encoded data removed]",
      "text/plain": [
       "<Figure size 720x360 with 1 Axes>"
      ]
     },
     "metadata": {},
     "output_type": "display_data"
    }
   ],
   "source": [
    "g = nx.Graph()\n",
    "for i, j in graphe_n.items():\n",
    "    for k in j:\n",
    "        g.add_edge( i,k )\n",
    "        \n",
    "f, ax = plt.subplots(figsize=(10,5))\n",
    "nx.draw(g, ax = ax, with_labels=True, font_weight='bold')"
   ]
  },
  {
   "cell_type": "code",
   "execution_count": 63,
   "metadata": {},
   "outputs": [],
   "source": [
    "g=Graph(graphe_n)"
   ]
  },
  {
   "cell_type": "code",
   "execution_count": 65,
   "metadata": {},
   "outputs": [
    {
     "data": {
      "text/plain": [
       "[[(0, 0),\n",
       "  (1, 0),\n",
       "  (2, 0),\n",
       "  (3, 0),\n",
       "  (3, 1),\n",
       "  (3, 2),\n",
       "  (3, 3),\n",
       "  (2, 3),\n",
       "  (1, 3),\n",
       "  (0, 3),\n",
       "  (0, 2),\n",
       "  (0, 1),\n",
       "  (1, 1),\n",
       "  (1, 2)]]"
      ]
     },
     "execution_count": 65,
     "metadata": {},
     "output_type": "execute_result"
    }
   ],
   "source": [
    "#Affichage du chemin parcouru depuis le départ jusqu'à l'arrivée\n",
    "g.print_paths((0,0),(HAUTEUR-1,LARGEUR-1))"
   ]
  }
 ],
 "metadata": {
  "kernelspec": {
   "display_name": "Python 3",
   "language": "python",
   "name": "python3"
  },
  "language_info": {
   "codemirror_mode": {
    "name": "ipython",
    "version": 3
   },
   "file_extension": ".py",
   "mimetype": "text/x-python",
   "name": "python",
   "nbconvert_exporter": "python",
   "pygments_lexer": "ipython3",
   "version": "3.8.3"
  }
 },
 "nbformat": 4,
 "nbformat_minor": 4
}
